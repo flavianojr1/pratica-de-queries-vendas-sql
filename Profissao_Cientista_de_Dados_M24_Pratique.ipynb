{
  "nbformat": 4,
  "nbformat_minor": 0,
  "metadata": {
    "colab": {
      "provenance": [],
      "include_colab_link": true
    },
    "kernelspec": {
      "name": "python3",
      "display_name": "Python 3"
    },
    "language_info": {
      "name": "python"
    }
  },
  "cells": [
    {
      "cell_type": "markdown",
      "metadata": {
        "id": "view-in-github",
        "colab_type": "text"
      },
      "source": [
        "<a href=\"https://colab.research.google.com/github/flavianojr1/pratica-de-queries-vendas-sql/blob/main/Profissao_Cientista_de_Dados_M24_Pratique.ipynb\" target=\"_parent\"><img src=\"https://colab.research.google.com/assets/colab-badge.svg\" alt=\"Open In Colab\"/></a>"
      ]
    },
    {
      "cell_type": "markdown",
      "source": [
        "# **MÓDULO 24 - Bancos de Dados + SQL**"
      ],
      "metadata": {
        "id": "4T5dCtwYXFS0"
      }
    },
    {
      "cell_type": "markdown",
      "source": [
        "Para nossa atividade inicial de SQL trabalharemos com uma base de vendas.\n",
        "Abaixo temos o ambiente de preparo para trabalharmos com o SQL lite."
      ],
      "metadata": {
        "id": "tGub_MhcXTfu"
      }
    },
    {
      "cell_type": "code",
      "execution_count": null,
      "metadata": {
        "id": "eQtWi0CfXCPn"
      },
      "outputs": [],
      "source": [
        "import sqlite3 #Importando a biblioteca necessária\n",
        "import pandas as pd"
      ]
    },
    {
      "cell_type": "code",
      "source": [
        "df_vendas = pd.read_csv(\"TB_VENDAS_TAREFA.csv\", delimiter=';')"
      ],
      "metadata": {
        "id": "yKsW2EEpXQTK"
      },
      "execution_count": null,
      "outputs": []
    },
    {
      "cell_type": "code",
      "source": [
        "conn = sqlite3.connect(':memory:')\n",
        "df_vendas.to_sql('tb_vendas', conn, index=False, if_exists='replace')"
      ],
      "metadata": {
        "colab": {
          "base_uri": "https://localhost:8080/"
        },
        "id": "vbdvMKZgXtT5",
        "outputId": "ad3e7f80-88c2-4d1c-c7c4-c3da6f866f41"
      },
      "execution_count": null,
      "outputs": [
        {
          "output_type": "execute_result",
          "data": {
            "text/plain": [
              "24"
            ]
          },
          "metadata": {},
          "execution_count": 3
        }
      ]
    },
    {
      "cell_type": "code",
      "source": [
        "def run_query(query):\n",
        "    return pd.read_sql_query(query, conn)"
      ],
      "metadata": {
        "id": "Z3-elg3aXuiM"
      },
      "execution_count": null,
      "outputs": []
    },
    {
      "cell_type": "markdown",
      "source": [
        "# 1) Faça uma consulta que retorne todos os dados da nossa tabela de vendas, com todas linhas e todas colunas.\n"
      ],
      "metadata": {
        "id": "Z_EFXuNLXz7m"
      }
    },
    {
      "cell_type": "code",
      "source": [
        "query = \"\"\"\n",
        "        SELECT *\n",
        "        FROM tb_vendas\n",
        "        \"\"\"\n",
        "result_df = run_query(query)\n",
        "print(result_df)"
      ],
      "metadata": {
        "id": "XQr_MBvmb4yC",
        "colab": {
          "base_uri": "https://localhost:8080/"
        },
        "outputId": "6cc11ac8-d84d-40f5-b9e4-d29760770f87"
      },
      "execution_count": null,
      "outputs": [
        {
          "output_type": "stream",
          "name": "stdout",
          "text": [
            "    ID_COMPRA  ID_CLIENTE   PRODUTO VALOR_UNID  UNIDADES\n",
            "0        1247        9081  CAMISETA       34,5         2\n",
            "1        1248        9081     CALCA       89,9         1\n",
            "2        1250        9560  CAMISETA       34,5         1\n",
            "3        1249        9630   BERMUDA       79,5         2\n",
            "4        1251        9425  CAMISETA       34,5         3\n",
            "5        1252        9425   VESTIDO        102         1\n",
            "6        1253        9481     CALCA       89,9         2\n",
            "7        1254        9785      MEIA       25,9         1\n",
            "8        1255        9786     CALCA       89,9         2\n",
            "9        1256        9787   VESTIDO        102         1\n",
            "10       1257        9788     CALCA       89,9         2\n",
            "11       1258        9789  CAMISETA       34,5         3\n",
            "12       1259        9790  CAMISETA       34,5         1\n",
            "13       1260        9791   BERMUDA       79,5         2\n",
            "14       1261        9792  CAMISETA       34,5         2\n",
            "15       1262        9793     CALCA       89,9         2\n",
            "16       1263        9794     CALCA       89,9         1\n",
            "17       1264        9795   BERMUDA       79,5         2\n",
            "18       1265        9796  CAMISETA       34,5         4\n",
            "19       1266        9797  CAMISETA       34,5         1\n",
            "20       1267        9798   VESTIDO        102         2\n",
            "21       1268        9799      MEIA       25,9         3\n",
            "22       1269        9800  CAMISETA       34,5         2\n",
            "23       1270        9801     CALCA       89,9         1\n"
          ]
        }
      ]
    },
    {
      "cell_type": "markdown",
      "source": [
        "# 2) Faça uma consulta que retorne apenas 10 linhas da coluna produto.\n"
      ],
      "metadata": {
        "id": "nyhYEkRLYMNY"
      }
    },
    {
      "cell_type": "code",
      "source": [
        "query = \"\"\"\n",
        "        SELECT PRODUTO\n",
        "        FROM tb_vendas\n",
        "        LIMIT 10\n",
        "        \"\"\"\n",
        "result_df = run_query(query)\n",
        "print(result_df)"
      ],
      "metadata": {
        "id": "LfKnVQUCYLxE",
        "colab": {
          "base_uri": "https://localhost:8080/"
        },
        "outputId": "b18bac0c-ae6a-4ec4-a950-9ac34959d0c3"
      },
      "execution_count": null,
      "outputs": [
        {
          "output_type": "stream",
          "name": "stdout",
          "text": [
            "    PRODUTO\n",
            "0  CAMISETA\n",
            "1     CALCA\n",
            "2  CAMISETA\n",
            "3   BERMUDA\n",
            "4  CAMISETA\n",
            "5   VESTIDO\n",
            "6     CALCA\n",
            "7      MEIA\n",
            "8     CALCA\n",
            "9   VESTIDO\n"
          ]
        }
      ]
    },
    {
      "cell_type": "markdown",
      "source": [
        "# 3) Faça uma consulta que retorne a média do valor por unidade e também das unidades vendidas. Não se esqueça de renomear o nome das colunas ao cria-las."
      ],
      "metadata": {
        "id": "-hqcrP6CYiGF"
      }
    },
    {
      "cell_type": "code",
      "source": [
        "query = \"\"\"\n",
        "        SELECT AVG(VALOR_UNID) AS MEDIA_VENDAS_POR_UNIDADE, AVG(UNIDADES) AS MEDIA_UNIDADES_VENDIDAS\n",
        "        FROM tb_vendas\n",
        "        \"\"\"\n",
        "result_df = run_query(query)\n",
        "print(result_df)"
      ],
      "metadata": {
        "id": "v1aJMTkMYhm4",
        "colab": {
          "base_uri": "https://localhost:8080/"
        },
        "outputId": "cad14f6b-cd53-49b1-c62f-41a1bbea7292"
      },
      "execution_count": null,
      "outputs": [
        {
          "output_type": "stream",
          "name": "stdout",
          "text": [
            "   MEDIA_VENDAS_POR_UNIDADE  MEDIA_UNIDADES_VENDIDAS\n",
            "0                 63.416667                 1.833333\n"
          ]
        }
      ]
    },
    {
      "cell_type": "markdown",
      "source": [
        "# 4) Note que na nossa tabela não temos o total de valor gasto por compra, temos o valor do produto e a quantidade vendida, para termos o valor total precisamos multiplicar essas duas colunas e para multiplicar colunas usamos o *.\n",
        "# Faça uma consulta que retorne a coluna ID_COMPRA, ID_CLIENTE e o valor total gasto.\n",
        "\n",
        "Ex: SELECT TICKET_MEDIO*UNIDADE FROM TB_EXEMPLO"
      ],
      "metadata": {
        "id": "UJUIsVjAY8Jz"
      }
    },
    {
      "cell_type": "code",
      "source": [
        "query = \"\"\"\n",
        "        SELECT ID_COMPRA, ID_CLIENTE, REPLACE(VALOR_UNID, ',', '.') * UNIDADES AS VALOR_TOTAL\n",
        "        FROM tb_vendas\n",
        "        \"\"\"\n",
        "result_df = run_query(query)\n",
        "print(result_df)"
      ],
      "metadata": {
        "id": "rNQfkp6RY7qa",
        "colab": {
          "base_uri": "https://localhost:8080/"
        },
        "outputId": "3edc249f-63b2-447d-b79c-0eafb0924b1e"
      },
      "execution_count": null,
      "outputs": [
        {
          "output_type": "stream",
          "name": "stdout",
          "text": [
            "    ID_COMPRA  ID_CLIENTE  VALOR_TOTAL\n",
            "0        1247        9081         69.0\n",
            "1        1248        9081         89.9\n",
            "2        1250        9560         34.5\n",
            "3        1249        9630        159.0\n",
            "4        1251        9425        103.5\n",
            "5        1252        9425        102.0\n",
            "6        1253        9481        179.8\n",
            "7        1254        9785         25.9\n",
            "8        1255        9786        179.8\n",
            "9        1256        9787        102.0\n",
            "10       1257        9788        179.8\n",
            "11       1258        9789        103.5\n",
            "12       1259        9790         34.5\n",
            "13       1260        9791        159.0\n",
            "14       1261        9792         69.0\n",
            "15       1262        9793        179.8\n",
            "16       1263        9794         89.9\n",
            "17       1264        9795        159.0\n",
            "18       1265        9796        138.0\n",
            "19       1266        9797         34.5\n",
            "20       1267        9798        204.0\n",
            "21       1268        9799         77.7\n",
            "22       1269        9800         69.0\n",
            "23       1270        9801         89.9\n"
          ]
        }
      ]
    },
    {
      "cell_type": "markdown",
      "source": [
        "# 5) [DESAFIO] Faça uma consulta que traz a média do valor total gasto que foi calculado no exercício anterior. Note que não queremos a média por pedido e sim a média total, apenas essa informação deve vir na consulta."
      ],
      "metadata": {
        "id": "tuTDx7W3Zxlp"
      }
    },
    {
      "cell_type": "code",
      "source": [
        "query = \"\"\"\n",
        "        SELECT AVG(REPLACE(VALOR_UNID, ',', '.') * UNIDADES) AS MEDIA_TOTAL_GASTO\n",
        "        FROM tb_vendas\n",
        "        \"\"\"\n",
        "result_df = run_query(query)\n",
        "# Exibir o resultado\n",
        "print(result_df)"
      ],
      "metadata": {
        "id": "UPUskwJoaEgy",
        "colab": {
          "base_uri": "https://localhost:8080/"
        },
        "outputId": "f38d385e-b377-4821-9e44-8273f1686583"
      },
      "execution_count": null,
      "outputs": [
        {
          "output_type": "stream",
          "name": "stdout",
          "text": [
            "   MEDIA_TOTAL_GASTO\n",
            "0         109.708333\n"
          ]
        }
      ]
    },
    {
      "cell_type": "markdown",
      "source": [
        "# 6) Diferencie com suas palavras, considerando o repertório que tem criado da área de dados, a utilizadade do SQL e do Python para ciência de dados.\n",
        "\n",
        "Facilmente posso notar que o SQL faz parte dos primeiros processos da Ciência de Dados. É nesta linguagem que extraímos os dados que queremos trabalhar. Muitas vezes, no próprio SQL já fazemos um leve processamento para depois, com uma ferramenta mais robusta, lidar com os dados selecionados de SQL como DataFrames em Pandas para entregar um trabalho refinado, filtrado, trabalhado e analisado."
      ],
      "metadata": {
        "id": "0ezDHHigaONG"
      }
    },
    {
      "cell_type": "markdown",
      "source": [
        "#7) Diferencie com suas palavras banco de dados relacionais de não relacionais.\n",
        "\n",
        "Os bancos de dados relacionais são os que vamos trabalhar na maior parte do tempo. Os dados são estruturados, ou seja: podemos enxergá-los sempre como tabelas bem definidas. Os bancos de dados não relacionais, são ferramentas que utilizamos para gravar dados com mais flexibilidade. São ideais para serem usados com grandes volumes de dados como imagens, grandes quantidades de texto não formatado ou dados em formato JSON."
      ],
      "metadata": {
        "id": "F1xh_-UPaZU2"
      }
    },
    {
      "cell_type": "markdown",
      "source": [
        "#8) Queremos saber da sua opinião, acredita que o SQL pode ser mais prático que o Python para consultas rápidas? Justifique.\n",
        "\n",
        "Ambas são ferramentas muito robustas. Bem elaboradas e afiadas para tal manuseio. Porém, posso afirmar que para certas consultas, o SQL se torna mais eficaz e rápido para consultas. Com uma única linha podemos agrupar, calcular, exibir com filtros sem precisar importar bibliotecas ou definir funções. Apesar do Python também poder fazer tudo isso, acredito que seja ideal para outros processos intermediários, ao contrário do SQL que já podemos consultar rapidamente com poucas linhas de código e extrair informações valiosas em poucas linhas (as vezes uma até)."
      ],
      "metadata": {
        "id": "GkKpxl52atNQ"
      }
    }
  ]
}